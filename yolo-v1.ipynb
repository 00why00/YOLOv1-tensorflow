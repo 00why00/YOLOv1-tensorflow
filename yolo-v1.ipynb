{
 "cells": [
  {
   "cell_type": "markdown",
   "metadata": {
    "collapsed": true,
    "pycharm": {
     "name": "#%% md\n"
    }
   },
   "source": [
    "@project: YOLOv1-tensorflow<br>\n",
    "@author: why<br>\n",
    "@file: yolo-v1.py.py<br>\n",
    "@ide: PyCharm<br>\n",
    "@time: 2020/12/30 20:19"
   ]
  },
  {
   "cell_type": "markdown",
   "source": [
    "# YOLO v1 算法的 Tensorflow 实现\n",
    "论文地址：https://arxiv.org/abs/1506.02640"
   ],
   "metadata": {
    "collapsed": false
   }
  },
  {
   "cell_type": "code",
   "execution_count": null,
   "outputs": [],
   "source": [
    "import tensorflow as tf"
   ],
   "metadata": {
    "collapsed": false,
    "pycharm": {
     "name": "#%%\n"
    }
   }
  }
 ],
 "metadata": {
  "kernelspec": {
   "display_name": "Python 3",
   "language": "python",
   "name": "python3"
  },
  "language_info": {
   "codemirror_mode": {
    "name": "ipython",
    "version": 2
   },
   "file_extension": ".py",
   "mimetype": "text/x-python",
   "name": "python",
   "nbconvert_exporter": "python",
   "pygments_lexer": "ipython2",
   "version": "2.7.6"
  }
 },
 "nbformat": 4,
 "nbformat_minor": 0
}